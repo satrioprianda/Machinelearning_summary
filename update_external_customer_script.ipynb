{
 "cells": [
  {
   "cell_type": "code",
   "execution_count": 1,
   "metadata": {},
   "outputs": [],
   "source": [
    "import pandas as pd\n",
    "import numpy as np\n",
    "import pymysql.cursors\n",
    "import pandas as pd \n",
    "import numpy as np \n",
    "import configparser\n",
    "import os, sys\n",
    "import os.path\n",
    "from os import path\n",
    "import os.path\n",
    "import re\n",
    "import mysql.connector as sql\n",
    "import datetime as dt\n",
    "import os \n",
    "import mysql\n",
    "\n"
   ]
  },
  {
   "cell_type": "code",
   "execution_count": 28,
   "metadata": {},
   "outputs": [
    {
     "data": {
      "text/plain": [
       "'2020-11-09 08:32:04'"
      ]
     },
     "execution_count": 28,
     "metadata": {},
     "output_type": "execute_result"
    }
   ],
   "source": [
    "time_update=dt.datetime.now()\n",
    "time_update=time_update.strftime('%Y-%m-%d %H:%M:%S')\n",
    "time_update"
   ]
  },
  {
   "cell_type": "code",
   "execution_count": 32,
   "metadata": {},
   "outputs": [],
   "source": [
    "# date_receipt= pd.read_csv('./notifier/latest_date_notifier.csv')\n",
    "# date_receipt['latest_date'].astype('datetime64[ns]')\n",
    "date_receipt= pd.read_csv('./notifier/latest_date_notifier.csv')\n",
    "# date_receipt= date_receipt.set_index('source_db')\n",
    "timefolder=dt.datetime.now()\n",
    "timefolder=timefolder.strftime('%Y%m%d')\n",
    "config = configparser.ConfigParser()\n",
    "config.read(\"./notifier/config.ini\")\n",
    "confDB_host= config[\"SERVER_TARGET\"][\"database_url\"]\n",
    "confDB_username= config[\"SERVER_TARGET\"][\"database_username\"]\n",
    "confDB_pass=config[\"SERVER_TARGET\"][\"database_password\"]\n",
    "confDB_port= int(config[\"SERVER_TARGET\"][\"database_port\"])\n",
    "list_kota_in_db= list(date_receipt['source_db'])\n",
    "list_date_in_kota=list(date_receipt['latest_date'])"
   ]
  },
  {
   "cell_type": "code",
   "execution_count": null,
   "metadata": {},
   "outputs": [],
   "source": [
    "new_kota='tb-kab_california'\n",
    "if new_kota in list(date_receipt['source_db']):\n",
    "    print('nothing happens')\n",
    "else:\n",
    "    list_kota_in_db.append(new_kota)\n",
    "    time_to_update=dt.datetime.now()\n",
    "    time_to_update=time_to_update.strftime('%Y-%m-%d %H:%M:%S')\n",
    "    list_date_in_kota.append(time_to_update)\n",
    "    print('added new data ',new_kota,' - ',time_to_update )"
   ]
  },
  {
   "cell_type": "code",
   "execution_count": null,
   "metadata": {},
   "outputs": [],
   "source": [
    "# date_receipt= pd.read_csv('./notifier/latest_date_notifier.csv')\n",
    "# date_receipt['latest_date'].astype('datetime64[ns]')\n",
    "date_receipt= pd.read_csv('./notifier/latest_date_notifier.csv')\n",
    "# date_receipt= date_receipt.set_index('source_db')\n",
    "timefolder=dt.datetime.now()\n",
    "timefolder=timefolder.strftime('%Y%m%d')\n",
    "config = configparser.ConfigParser()\n",
    "config.read(\"./notifier/config.ini\")\n",
    "confDB_host= config[\"SERVER_TARGET\"][\"database_url\"]\n",
    "confDB_username= config[\"SERVER_TARGET\"][\"database_username\"]\n",
    "confDB_pass=config[\"SERVER_TARGET\"][\"database_password\"]\n",
    "confDB_port= int(config[\"SERVER_TARGET\"][\"database_port\"])\n",
    "list_kota_in_db= list(date_receipt['source_db'])\n",
    "list_date_in_kota=list(date_receipt['latest_date'])\n",
    "\n",
    "conn = mysql.connector.connect (user=confDB_username, password=confDB_pass,\n",
    "                               host=confDB_host,buffered=True,charset='utf8mb4',port=confDB_port)\n",
    "cursor = conn.cursor()\n",
    "databases = (\"show databases\")\n",
    "cursor.execute(databases)\n",
    "# get the list of existing databse\n",
    "listdb=[]\n",
    "for db in cursor:\n",
    "    listdb.append(db[0])\n",
    "## SELECT THE TB AND DASHMANTAP\n",
    "listdb_new=[]\n",
    "for i in listdb:\n",
    "    if 'tb' in i:\n",
    "        listdb_new.append(i)\n",
    "    elif 'tb' in i:\n",
    "        listdb_new.append(i)\n",
    "    else:\n",
    "        a=i\n",
    "        \n",
    "\n",
    "list_check_table=[]\n",
    "list_check_db=[]\n",
    "df_to_merge=[]\n",
    "list_db_test=['tb-bogor']\n",
    "\n",
    "\n",
    "\n",
    "\n",
    "# # for db in listDB:\n",
    "for db in listdb_new:\n",
    "    if db in list(date_receipt['source_db']):\n",
    "        pass\n",
    "#         print('nothing happens')\n",
    "    else:\n",
    "        list_kota_in_db.append(new_kota)\n",
    "        time_to_update=dt.datetime.now()\n",
    "        time_to_update=time_to_update.strftime('%Y-%m-%d %H:%M:%S')\n",
    "        list_date_in_kota.append(time_to_update)\n",
    "        print('added new DB ',new_kota,' - ',time_to_update )\n",
    "        \n",
    "        \n",
    "date_receipt['source_db']=list_kota_in_db\n",
    "date_receipt['latest_date']=list_date_in_kota\n",
    "# date_receipt\n",
    "date_receipt.to_csv('./notifier/latest_date_notifier.csv')\n",
    "# date_receipt= pd.read_csv('./notifier/latest_date_notifier.csv')"
   ]
  },
  {
   "cell_type": "code",
   "execution_count": null,
   "metadata": {},
   "outputs": [],
   "source": []
  },
  {
   "cell_type": "code",
   "execution_count": null,
   "metadata": {},
   "outputs": [],
   "source": []
  },
  {
   "cell_type": "code",
   "execution_count": null,
   "metadata": {},
   "outputs": [],
   "source": []
  },
  {
   "cell_type": "code",
   "execution_count": null,
   "metadata": {},
   "outputs": [],
   "source": []
  },
  {
   "cell_type": "code",
   "execution_count": null,
   "metadata": {},
   "outputs": [],
   "source": []
  },
  {
   "cell_type": "code",
   "execution_count": null,
   "metadata": {},
   "outputs": [],
   "source": []
  },
  {
   "cell_type": "code",
   "execution_count": null,
   "metadata": {},
   "outputs": [],
   "source": []
  },
  {
   "cell_type": "markdown",
   "metadata": {},
   "source": [
    "## importing the necessary library"
   ]
  },
  {
   "cell_type": "code",
   "execution_count": 60,
   "metadata": {},
   "outputs": [],
   "source": [
    "# date_receipt= date_receipt.reset_index()\n",
    "import seaborn as sns\n",
    "import matplotlib.pyplot as plt \n",
    "%matplotlib inline\n",
    "import scipy \n",
    "import sklearn \n",
    "import sys\n",
    "import numpy as np \n",
    "from sklearn.model_selection import train_test_split \n"
   ]
  },
  {
   "cell_type": "markdown",
   "metadata": {},
   "source": [
    "## import the data and also the correletion matrix"
   ]
  },
  {
   "cell_type": "code",
   "execution_count": 364,
   "metadata": {},
   "outputs": [
    {
     "data": {
      "text/plain": [
       "<matplotlib.axes._subplots.AxesSubplot at 0x1dc4f724d68>"
      ]
     },
     "execution_count": 364,
     "metadata": {},
     "output_type": "execute_result"
    },
    {
     "data": {
      "image/png": "[encoded data removed]",
      "text/plain": [
       "<Figure size 1296x1296 with 2 Axes>"
      ]
     },
     "metadata": {
      "needs_background": "light"
     },
     "output_type": "display_data"
    }
   ],
   "source": [
    "winequality =pd.read_csv('https://archive.ics.uci.edu/ml/machine-learning-databases/wine-quality/winequality-red.csv',sep=';')\n",
    "f,ax = plt.subplots(figsize=(18, 18))\n",
    "sns.heatmap(winequality.corr(), annot=True, linewidths=.5, fmt= '.1f',ax=ax)"
   ]
  },
  {
   "cell_type": "markdown",
   "metadata": {},
   "source": [
    "## splitting the data train and test"
   ]
  },
  {
   "cell_type": "code",
   "execution_count": 365,
   "metadata": {},
   "outputs": [
    {
     "name": "stderr",
     "output_type": "stream",
     "text": [
      "C:\\ProgramData\\Anaconda3\\lib\\site-packages\\sklearn\\model_selection\\_split.py:2026: FutureWarning: From version 0.21, test_size will always complement train_size unless both are specified.\n",
      "  FutureWarning)\n"
     ]
    }
   ],
   "source": [
    "inputs= winequality.drop(columns=['quality'])\n",
    "target= winequality['quality']\n",
    "x_train, x_test,y_train,y_test= train_test_split(inputs,target,train_size=0.3)"
   ]
  },
  {
   "cell_type": "markdown",
   "metadata": {},
   "source": [
    "# 1.random forest library "
   ]
  },
  {
   "cell_type": "code",
   "execution_count": null,
   "metadata": {},
   "outputs": [],
   "source": []
  },
  {
   "cell_type": "code",
   "execution_count": 70,
   "metadata": {},
   "outputs": [],
   "source": [
    "from sklearn.ensemble import RandomForestClassifier"
   ]
  },
  {
   "cell_type": "code",
   "execution_count": 106,
   "metadata": {},
   "outputs": [],
   "source": [
    "modelRF= RandomForestClassifier(n_estimators=50,bootstrap=True,criterion='gini')\n",
    "modelRF.fit(x_train,y_train)\n",
    "prediction_rf= modelRF.predict(x_test)\n",
    "training_score_RF= modelRF.score(x_test,y_test) ## training score RF"
   ]
  },
  {
   "cell_type": "code",
   "execution_count": 87,
   "metadata": {},
   "outputs": [],
   "source": [
    "\n",
    "# Probabilities for each class\n",
    "rf_probs = model.predict_proba(x_test)[:, 1]"
   ]
  },
  {
   "cell_type": "markdown",
   "metadata": {},
   "source": [
    "## evaluating the model "
   ]
  },
  {
   "cell_type": "code",
   "execution_count": 222,
   "metadata": {},
   "outputs": [
    {
     "data": {
      "text/plain": [
       "0.6205357142857143"
      ]
     },
     "execution_count": 222,
     "metadata": {},
     "output_type": "execute_result"
    }
   ],
   "source": [
    "from sklearn.metrics import classification_report, confusion_matrix, accuracy_score\n",
    "\n",
    "# print(confusion_matrix(y_test,prediction_rf))\n",
    "# print(classification_report(y_test,prediction_rf))\n",
    "# print(accuracy_score(y_test, prediction_rf))\n",
    "accuracy_scoreRF= accuracy_score(y_test, prediction_rf)\n",
    "accuracy_scoreRF"
   ]
  },
  {
   "cell_type": "code",
   "execution_count": 90,
   "metadata": {},
   "outputs": [
    {
     "name": "stdout",
     "output_type": "stream",
     "text": [
      "multiclass format is not supported\n"
     ]
    }
   ],
   "source": [
    "from sklearn.metrics import roc_auc_score\n",
    "\n",
    "# Calculate roc auc\n",
    "try:\n",
    "    roc_value = roc_auc_score(y_test, rf_probs)\n",
    "except Exception as e:\n",
    "    print(e)"
   ]
  },
  {
   "cell_type": "markdown",
   "metadata": {},
   "source": [
    "## feature importance"
   ]
  },
  {
   "cell_type": "code",
   "execution_count": 112,
   "metadata": {},
   "outputs": [],
   "source": [
    "f1_RF = pd.DataFrame({'feature': list(x_train.columns),\n",
    "                   'importance': modelRF.feature_importances_}).\\\n",
    "                    sort_values('importance', ascending = False)\n"
   ]
  },
  {
   "cell_type": "code",
   "execution_count": 113,
   "metadata": {},
   "outputs": [
    {
     "data": {
      "text/html": [
       "<div>\n",
       "<style scoped>\n",
       "    .dataframe tbody tr th:only-of-type {\n",
       "        vertical-align: middle;\n",
       "    }\n",
       "\n",
       "    .dataframe tbody tr th {\n",
       "        vertical-align: top;\n",
       "    }\n",
       "\n",
       "    .dataframe thead th {\n",
       "        text-align: right;\n",
       "    }\n",
       "</style>\n",
       "<table border=\"1\" class=\"dataframe\">\n",
       "  <thead>\n",
       "    <tr style=\"text-align: right;\">\n",
       "      <th></th>\n",
       "      <th>feature</th>\n",
       "      <th>importance</th>\n",
       "    </tr>\n",
       "  </thead>\n",
       "  <tbody>\n",
       "    <tr>\n",
       "      <th>10</th>\n",
       "      <td>alcohol</td>\n",
       "      <td>0.155217</td>\n",
       "    </tr>\n",
       "    <tr>\n",
       "      <th>6</th>\n",
       "      <td>total sulfur dioxide</td>\n",
       "      <td>0.109700</td>\n",
       "    </tr>\n",
       "    <tr>\n",
       "      <th>9</th>\n",
       "      <td>sulphates</td>\n",
       "      <td>0.101673</td>\n",
       "    </tr>\n",
       "    <tr>\n",
       "      <th>1</th>\n",
       "      <td>volatile acidity</td>\n",
       "      <td>0.100768</td>\n",
       "    </tr>\n",
       "    <tr>\n",
       "      <th>7</th>\n",
       "      <td>density</td>\n",
       "      <td>0.089628</td>\n",
       "    </tr>\n",
       "    <tr>\n",
       "      <th>4</th>\n",
       "      <td>chlorides</td>\n",
       "      <td>0.082938</td>\n",
       "    </tr>\n",
       "    <tr>\n",
       "      <th>0</th>\n",
       "      <td>fixed acidity</td>\n",
       "      <td>0.076236</td>\n",
       "    </tr>\n",
       "    <tr>\n",
       "      <th>2</th>\n",
       "      <td>citric acid</td>\n",
       "      <td>0.074402</td>\n",
       "    </tr>\n",
       "    <tr>\n",
       "      <th>3</th>\n",
       "      <td>residual sugar</td>\n",
       "      <td>0.073441</td>\n",
       "    </tr>\n",
       "    <tr>\n",
       "      <th>8</th>\n",
       "      <td>pH</td>\n",
       "      <td>0.072791</td>\n",
       "    </tr>\n",
       "    <tr>\n",
       "      <th>5</th>\n",
       "      <td>free sulfur dioxide</td>\n",
       "      <td>0.063206</td>\n",
       "    </tr>\n",
       "  </tbody>\n",
       "</table>\n",
       "</div>"
      ],
      "text/plain": [
       "                 feature  importance\n",
       "10               alcohol    0.155217\n",
       "6   total sulfur dioxide    0.109700\n",
       "9              sulphates    0.101673\n",
       "1       volatile acidity    0.100768\n",
       "7                density    0.089628\n",
       "4              chlorides    0.082938\n",
       "0          fixed acidity    0.076236\n",
       "2            citric acid    0.074402\n",
       "3         residual sugar    0.073441\n",
       "8                     pH    0.072791\n",
       "5    free sulfur dioxide    0.063206"
      ]
     },
     "execution_count": 113,
     "metadata": {},
     "output_type": "execute_result"
    }
   ],
   "source": [
    "f1_RF"
   ]
  },
  {
   "cell_type": "markdown",
   "metadata": {},
   "source": [
    "# 2. decision Tree"
   ]
  },
  {
   "cell_type": "code",
   "execution_count": null,
   "metadata": {},
   "outputs": [],
   "source": [
    "from sklearn.externals.six import StringIO  \n",
    "from IPython.display import Image  \n",
    "from sklearn.tree import export_graphviz\n",
    "import pydotplus\n",
    "from sklearn.tree import DecisionTreeClassifier\n",
    "dtree=DecisionTreeClassifier()\n",
    "dtree.fit(df,y)\n",
    "dot_data = StringIO()\n",
    "export_graphviz(dtree, out_file=dot_data,  \n",
    "                filled=True, rounded=True,\n",
    "                special_characters=True)"
   ]
  },
  {
   "cell_type": "code",
   "execution_count": 223,
   "metadata": {},
   "outputs": [],
   "source": [
    "from sklearn import tree\n",
    "modelDT= tree.DecisionTreeClassifier(criterion='gini')\n",
    "modelDT.fit(x_train,y_train)\n",
    "\n",
    "prediction_DT= modelDT.predict(x_test)\n"
   ]
  },
  {
   "cell_type": "markdown",
   "metadata": {},
   "source": [
    "## accuracy on the training model"
   ]
  },
  {
   "cell_type": "code",
   "execution_count": 133,
   "metadata": {},
   "outputs": [
    {
     "data": {
      "text/plain": [
       "0.55"
      ]
     },
     "execution_count": 133,
     "metadata": {},
     "output_type": "execute_result"
    }
   ],
   "source": [
    "training_scoreDT= modelDT.score(x_test,y_test) ## result on training test\n",
    "training_scoreDT"
   ]
  },
  {
   "cell_type": "markdown",
   "metadata": {},
   "source": [
    "## evaluation of the model"
   ]
  },
  {
   "cell_type": "code",
   "execution_count": 227,
   "metadata": {},
   "outputs": [
    {
     "data": {
      "text/plain": [
       "0.5446428571428571"
      ]
     },
     "execution_count": 227,
     "metadata": {},
     "output_type": "execute_result"
    }
   ],
   "source": [
    "# print(confusion_matrix(y_test,prediction_DT))\n",
    "# print(classification_report(y_test,prediction_DT))\n",
    "# print(accuracy_score(y_test, prediction_DT))\n",
    "accuracy_scoreDT= accuracy_score(y_test, prediction_DT)\n",
    "accuracy_scoreDT"
   ]
  },
  {
   "cell_type": "markdown",
   "metadata": {},
   "source": [
    "## feature importance"
   ]
  },
  {
   "cell_type": "code",
   "execution_count": 130,
   "metadata": {
    "scrolled": true
   },
   "outputs": [
    {
     "data": {
      "text/html": [
       "<div>\n",
       "<style scoped>\n",
       "    .dataframe tbody tr th:only-of-type {\n",
       "        vertical-align: middle;\n",
       "    }\n",
       "\n",
       "    .dataframe tbody tr th {\n",
       "        vertical-align: top;\n",
       "    }\n",
       "\n",
       "    .dataframe thead th {\n",
       "        text-align: right;\n",
       "    }\n",
       "</style>\n",
       "<table border=\"1\" class=\"dataframe\">\n",
       "  <thead>\n",
       "    <tr style=\"text-align: right;\">\n",
       "      <th></th>\n",
       "      <th>feature</th>\n",
       "      <th>importance</th>\n",
       "    </tr>\n",
       "  </thead>\n",
       "  <tbody>\n",
       "    <tr>\n",
       "      <th>10</th>\n",
       "      <td>alcohol</td>\n",
       "      <td>0.167912</td>\n",
       "    </tr>\n",
       "    <tr>\n",
       "      <th>1</th>\n",
       "      <td>volatile acidity</td>\n",
       "      <td>0.120800</td>\n",
       "    </tr>\n",
       "    <tr>\n",
       "      <th>9</th>\n",
       "      <td>sulphates</td>\n",
       "      <td>0.120086</td>\n",
       "    </tr>\n",
       "    <tr>\n",
       "      <th>7</th>\n",
       "      <td>density</td>\n",
       "      <td>0.106893</td>\n",
       "    </tr>\n",
       "    <tr>\n",
       "      <th>6</th>\n",
       "      <td>total sulfur dioxide</td>\n",
       "      <td>0.085869</td>\n",
       "    </tr>\n",
       "    <tr>\n",
       "      <th>0</th>\n",
       "      <td>fixed acidity</td>\n",
       "      <td>0.084178</td>\n",
       "    </tr>\n",
       "    <tr>\n",
       "      <th>5</th>\n",
       "      <td>free sulfur dioxide</td>\n",
       "      <td>0.078457</td>\n",
       "    </tr>\n",
       "    <tr>\n",
       "      <th>2</th>\n",
       "      <td>citric acid</td>\n",
       "      <td>0.076506</td>\n",
       "    </tr>\n",
       "    <tr>\n",
       "      <th>4</th>\n",
       "      <td>chlorides</td>\n",
       "      <td>0.062618</td>\n",
       "    </tr>\n",
       "    <tr>\n",
       "      <th>3</th>\n",
       "      <td>residual sugar</td>\n",
       "      <td>0.057781</td>\n",
       "    </tr>\n",
       "    <tr>\n",
       "      <th>8</th>\n",
       "      <td>pH</td>\n",
       "      <td>0.038902</td>\n",
       "    </tr>\n",
       "  </tbody>\n",
       "</table>\n",
       "</div>"
      ],
      "text/plain": [
       "                 feature  importance\n",
       "10               alcohol    0.167912\n",
       "1       volatile acidity    0.120800\n",
       "9              sulphates    0.120086\n",
       "7                density    0.106893\n",
       "6   total sulfur dioxide    0.085869\n",
       "0          fixed acidity    0.084178\n",
       "5    free sulfur dioxide    0.078457\n",
       "2            citric acid    0.076506\n",
       "4              chlorides    0.062618\n",
       "3         residual sugar    0.057781\n",
       "8                     pH    0.038902"
      ]
     },
     "execution_count": 130,
     "metadata": {},
     "output_type": "execute_result"
    }
   ],
   "source": [
    "f1_DT = pd.DataFrame({'feature': list(x_train.columns),\n",
    "                   'importance': modelDT.feature_importances_}).\\\n",
    "                    sort_values('importance', ascending = False)\n",
    "f1_DT\n"
   ]
  },
  {
   "cell_type": "markdown",
   "metadata": {},
   "source": [
    "\n",
    "# 3. gradient boosting"
   ]
  },
  {
   "cell_type": "code",
   "execution_count": 127,
   "metadata": {},
   "outputs": [
    {
     "data": {
      "text/plain": [
       "GradientBoostingClassifier(criterion='friedman_mse', init=None,\n",
       "              learning_rate=0.5, loss='deviance', max_depth=3,\n",
       "              max_features=None, max_leaf_nodes=None,\n",
       "              min_impurity_decrease=0.0, min_impurity_split=None,\n",
       "              min_samples_leaf=1, min_samples_split=2,\n",
       "              min_weight_fraction_leaf=0.0, n_estimators=100,\n",
       "              presort='auto', random_state=None, subsample=1.0, verbose=0,\n",
       "              warm_start=False)"
      ]
     },
     "execution_count": 127,
     "metadata": {},
     "output_type": "execute_result"
    }
   ],
   "source": [
    "from sklearn.ensemble import GradientBoostingClassifier\n",
    "modelGB= GradientBoostingClassifier(learning_rate=0.5)\n",
    "modelGB.fit(x_train,y_train)"
   ]
  },
  {
   "cell_type": "markdown",
   "metadata": {},
   "source": [
    "## accuracy on the training  model"
   ]
  },
  {
   "cell_type": "code",
   "execution_count": 132,
   "metadata": {},
   "outputs": [
    {
     "data": {
      "text/plain": [
       "0.6232142857142857"
      ]
     },
     "execution_count": 132,
     "metadata": {},
     "output_type": "execute_result"
    }
   ],
   "source": [
    "training_scoreGB=model.score(x_test,y_test)\n",
    "training_scoreGB"
   ]
  },
  {
   "cell_type": "code",
   "execution_count": 120,
   "metadata": {},
   "outputs": [],
   "source": [
    "prediction_GB= modelGB.predict(x_test)"
   ]
  },
  {
   "cell_type": "markdown",
   "metadata": {},
   "source": [
    "### metrics accuracy"
   ]
  },
  {
   "cell_type": "code",
   "execution_count": 229,
   "metadata": {},
   "outputs": [
    {
     "data": {
      "text/plain": [
       "0.6053571428571428"
      ]
     },
     "execution_count": 229,
     "metadata": {},
     "output_type": "execute_result"
    }
   ],
   "source": [
    "from sklearn import metrics\n",
    "metrics.accuracy_score(y_test,prediction_rf)\n",
    "# confusion_matrix(y_test,prediction_GB)\n",
    "# print(classification_report(y_test,prediction_GB))\n",
    "# print(accuracy_score(y_test, prediction_GB))\n",
    "accuracy_scoreGB= accuracy_score(y_test, prediction_GB)\n",
    "accuracy_scoreGB"
   ]
  },
  {
   "cell_type": "markdown",
   "metadata": {},
   "source": [
    "\n",
    "### feature importance Gradient Boosting"
   ]
  },
  {
   "cell_type": "code",
   "execution_count": 131,
   "metadata": {},
   "outputs": [
    {
     "data": {
      "text/html": [
       "<div>\n",
       "<style scoped>\n",
       "    .dataframe tbody tr th:only-of-type {\n",
       "        vertical-align: middle;\n",
       "    }\n",
       "\n",
       "    .dataframe tbody tr th {\n",
       "        vertical-align: top;\n",
       "    }\n",
       "\n",
       "    .dataframe thead th {\n",
       "        text-align: right;\n",
       "    }\n",
       "</style>\n",
       "<table border=\"1\" class=\"dataframe\">\n",
       "  <thead>\n",
       "    <tr style=\"text-align: right;\">\n",
       "      <th></th>\n",
       "      <th>feature</th>\n",
       "      <th>importance</th>\n",
       "    </tr>\n",
       "  </thead>\n",
       "  <tbody>\n",
       "    <tr>\n",
       "      <th>1</th>\n",
       "      <td>volatile acidity</td>\n",
       "      <td>0.095786</td>\n",
       "    </tr>\n",
       "    <tr>\n",
       "      <th>7</th>\n",
       "      <td>density</td>\n",
       "      <td>0.074706</td>\n",
       "    </tr>\n",
       "    <tr>\n",
       "      <th>6</th>\n",
       "      <td>total sulfur dioxide</td>\n",
       "      <td>0.073710</td>\n",
       "    </tr>\n",
       "    <tr>\n",
       "      <th>4</th>\n",
       "      <td>chlorides</td>\n",
       "      <td>0.071126</td>\n",
       "    </tr>\n",
       "    <tr>\n",
       "      <th>2</th>\n",
       "      <td>citric acid</td>\n",
       "      <td>0.063646</td>\n",
       "    </tr>\n",
       "    <tr>\n",
       "      <th>10</th>\n",
       "      <td>alcohol</td>\n",
       "      <td>0.062434</td>\n",
       "    </tr>\n",
       "    <tr>\n",
       "      <th>9</th>\n",
       "      <td>sulphates</td>\n",
       "      <td>0.057550</td>\n",
       "    </tr>\n",
       "    <tr>\n",
       "      <th>0</th>\n",
       "      <td>fixed acidity</td>\n",
       "      <td>0.055947</td>\n",
       "    </tr>\n",
       "    <tr>\n",
       "      <th>8</th>\n",
       "      <td>pH</td>\n",
       "      <td>0.048208</td>\n",
       "    </tr>\n",
       "    <tr>\n",
       "      <th>3</th>\n",
       "      <td>residual sugar</td>\n",
       "      <td>0.042787</td>\n",
       "    </tr>\n",
       "    <tr>\n",
       "      <th>5</th>\n",
       "      <td>free sulfur dioxide</td>\n",
       "      <td>0.042432</td>\n",
       "    </tr>\n",
       "  </tbody>\n",
       "</table>\n",
       "</div>"
      ],
      "text/plain": [
       "                 feature  importance\n",
       "1       volatile acidity    0.095786\n",
       "7                density    0.074706\n",
       "6   total sulfur dioxide    0.073710\n",
       "4              chlorides    0.071126\n",
       "2            citric acid    0.063646\n",
       "10               alcohol    0.062434\n",
       "9              sulphates    0.057550\n",
       "0          fixed acidity    0.055947\n",
       "8                     pH    0.048208\n",
       "3         residual sugar    0.042787\n",
       "5    free sulfur dioxide    0.042432"
      ]
     },
     "execution_count": 131,
     "metadata": {},
     "output_type": "execute_result"
    }
   ],
   "source": [
    "f1_GB = pd.DataFrame({'feature': list(x_train.columns),\n",
    "                   'importance': modelGB.feature_importances_}).\\\n",
    "                    sort_values('importance', ascending = False)\n",
    "f1_GB\n"
   ]
  },
  {
   "cell_type": "markdown",
   "metadata": {},
   "source": [
    "# summary model"
   ]
  },
  {
   "cell_type": "code",
   "execution_count": 207,
   "metadata": {},
   "outputs": [],
   "source": [
    "f1_DT_join= f1_DT.reset_index().reset_index().drop(columns=['index',],axis=1).rename(columns={'level_0':'peringkatDT',\n",
    "                                                                                  'importance':'importance_DT'})\n",
    "f1_GB_join= f1_GB.reset_index().reset_index().drop(columns=['index',],axis=1).rename(columns={'level_0':'peringkatGB',\n",
    "                                                                                  'importance':'importance_GB'})\n",
    "f1_RF_join= f1_RF.reset_index().reset_index().drop(columns=['index',],axis=1).rename(columns={'level_0':'peringkatRF',\n",
    "                                                                                  'importance':'importance_RF'})"
   ]
  },
  {
   "cell_type": "code",
   "execution_count": 218,
   "metadata": {},
   "outputs": [],
   "source": [
    "# pd.merge(f1_RF_join,f1_GB_join,how='left',left_on='feature',right_on='feature')\n",
    "final_importance= pd.merge(f1_DT_join,pd.merge(f1_RF_join,f1_GB_join,how='left',left_on='feature',right_on='feature'),how='left',left_on='feature',right_on='feature')\n",
    "# final_importance.reindex()\n",
    "final_importance=final_importance.reindex(['feature', 'peringkatRF','peringkatDT',  'peringkatGB', 'importance_RF',\n",
    "       'importance_DT', 'importance_GB'],axis=1)\n"
   ]
  },
  {
   "cell_type": "code",
   "execution_count": 219,
   "metadata": {},
   "outputs": [
    {
     "data": {
      "text/html": [
       "<div>\n",
       "<style scoped>\n",
       "    .dataframe tbody tr th:only-of-type {\n",
       "        vertical-align: middle;\n",
       "    }\n",
       "\n",
       "    .dataframe tbody tr th {\n",
       "        vertical-align: top;\n",
       "    }\n",
       "\n",
       "    .dataframe thead th {\n",
       "        text-align: right;\n",
       "    }\n",
       "</style>\n",
       "<table border=\"1\" class=\"dataframe\">\n",
       "  <thead>\n",
       "    <tr style=\"text-align: right;\">\n",
       "      <th></th>\n",
       "      <th>feature</th>\n",
       "      <th>peringkatRF</th>\n",
       "      <th>peringkatDT</th>\n",
       "      <th>peringkatGB</th>\n",
       "      <th>importance_RF</th>\n",
       "      <th>importance_DT</th>\n",
       "      <th>importance_GB</th>\n",
       "    </tr>\n",
       "  </thead>\n",
       "  <tbody>\n",
       "    <tr>\n",
       "      <th>0</th>\n",
       "      <td>alcohol</td>\n",
       "      <td>0</td>\n",
       "      <td>0</td>\n",
       "      <td>5</td>\n",
       "      <td>0.155217</td>\n",
       "      <td>0.167912</td>\n",
       "      <td>0.062434</td>\n",
       "    </tr>\n",
       "    <tr>\n",
       "      <th>1</th>\n",
       "      <td>volatile acidity</td>\n",
       "      <td>3</td>\n",
       "      <td>1</td>\n",
       "      <td>0</td>\n",
       "      <td>0.100768</td>\n",
       "      <td>0.120800</td>\n",
       "      <td>0.095786</td>\n",
       "    </tr>\n",
       "    <tr>\n",
       "      <th>2</th>\n",
       "      <td>sulphates</td>\n",
       "      <td>2</td>\n",
       "      <td>2</td>\n",
       "      <td>6</td>\n",
       "      <td>0.101673</td>\n",
       "      <td>0.120086</td>\n",
       "      <td>0.057550</td>\n",
       "    </tr>\n",
       "    <tr>\n",
       "      <th>3</th>\n",
       "      <td>density</td>\n",
       "      <td>4</td>\n",
       "      <td>3</td>\n",
       "      <td>1</td>\n",
       "      <td>0.089628</td>\n",
       "      <td>0.106893</td>\n",
       "      <td>0.074706</td>\n",
       "    </tr>\n",
       "    <tr>\n",
       "      <th>4</th>\n",
       "      <td>total sulfur dioxide</td>\n",
       "      <td>1</td>\n",
       "      <td>4</td>\n",
       "      <td>2</td>\n",
       "      <td>0.109700</td>\n",
       "      <td>0.085869</td>\n",
       "      <td>0.073710</td>\n",
       "    </tr>\n",
       "    <tr>\n",
       "      <th>5</th>\n",
       "      <td>fixed acidity</td>\n",
       "      <td>6</td>\n",
       "      <td>5</td>\n",
       "      <td>7</td>\n",
       "      <td>0.076236</td>\n",
       "      <td>0.084178</td>\n",
       "      <td>0.055947</td>\n",
       "    </tr>\n",
       "    <tr>\n",
       "      <th>6</th>\n",
       "      <td>free sulfur dioxide</td>\n",
       "      <td>10</td>\n",
       "      <td>6</td>\n",
       "      <td>10</td>\n",
       "      <td>0.063206</td>\n",
       "      <td>0.078457</td>\n",
       "      <td>0.042432</td>\n",
       "    </tr>\n",
       "    <tr>\n",
       "      <th>7</th>\n",
       "      <td>citric acid</td>\n",
       "      <td>7</td>\n",
       "      <td>7</td>\n",
       "      <td>4</td>\n",
       "      <td>0.074402</td>\n",
       "      <td>0.076506</td>\n",
       "      <td>0.063646</td>\n",
       "    </tr>\n",
       "    <tr>\n",
       "      <th>8</th>\n",
       "      <td>chlorides</td>\n",
       "      <td>5</td>\n",
       "      <td>8</td>\n",
       "      <td>3</td>\n",
       "      <td>0.082938</td>\n",
       "      <td>0.062618</td>\n",
       "      <td>0.071126</td>\n",
       "    </tr>\n",
       "    <tr>\n",
       "      <th>9</th>\n",
       "      <td>residual sugar</td>\n",
       "      <td>8</td>\n",
       "      <td>9</td>\n",
       "      <td>9</td>\n",
       "      <td>0.073441</td>\n",
       "      <td>0.057781</td>\n",
       "      <td>0.042787</td>\n",
       "    </tr>\n",
       "    <tr>\n",
       "      <th>10</th>\n",
       "      <td>pH</td>\n",
       "      <td>9</td>\n",
       "      <td>10</td>\n",
       "      <td>8</td>\n",
       "      <td>0.072791</td>\n",
       "      <td>0.038902</td>\n",
       "      <td>0.048208</td>\n",
       "    </tr>\n",
       "  </tbody>\n",
       "</table>\n",
       "</div>"
      ],
      "text/plain": [
       "                 feature  peringkatRF  peringkatDT  peringkatGB  \\\n",
       "0                alcohol            0            0            5   \n",
       "1       volatile acidity            3            1            0   \n",
       "2              sulphates            2            2            6   \n",
       "3                density            4            3            1   \n",
       "4   total sulfur dioxide            1            4            2   \n",
       "5          fixed acidity            6            5            7   \n",
       "6    free sulfur dioxide           10            6           10   \n",
       "7            citric acid            7            7            4   \n",
       "8              chlorides            5            8            3   \n",
       "9         residual sugar            8            9            9   \n",
       "10                    pH            9           10            8   \n",
       "\n",
       "    importance_RF  importance_DT  importance_GB  \n",
       "0        0.155217       0.167912       0.062434  \n",
       "1        0.100768       0.120800       0.095786  \n",
       "2        0.101673       0.120086       0.057550  \n",
       "3        0.089628       0.106893       0.074706  \n",
       "4        0.109700       0.085869       0.073710  \n",
       "5        0.076236       0.084178       0.055947  \n",
       "6        0.063206       0.078457       0.042432  \n",
       "7        0.074402       0.076506       0.063646  \n",
       "8        0.082938       0.062618       0.071126  \n",
       "9        0.073441       0.057781       0.042787  \n",
       "10       0.072791       0.038902       0.048208  "
      ]
     },
     "execution_count": 219,
     "metadata": {},
     "output_type": "execute_result"
    }
   ],
   "source": [
    "final_importance"
   ]
  },
  {
   "cell_type": "code",
   "execution_count": 238,
   "metadata": {},
   "outputs": [
    {
     "data": {
      "text/html": [
       "<div>\n",
       "<style scoped>\n",
       "    .dataframe tbody tr th:only-of-type {\n",
       "        vertical-align: middle;\n",
       "    }\n",
       "\n",
       "    .dataframe tbody tr th {\n",
       "        vertical-align: top;\n",
       "    }\n",
       "\n",
       "    .dataframe thead th {\n",
       "        text-align: right;\n",
       "    }\n",
       "</style>\n",
       "<table border=\"1\" class=\"dataframe\">\n",
       "  <thead>\n",
       "    <tr style=\"text-align: right;\">\n",
       "      <th></th>\n",
       "      <th>test_accuracy</th>\n",
       "      <th>train_accuracy</th>\n",
       "    </tr>\n",
       "  </thead>\n",
       "  <tbody>\n",
       "    <tr>\n",
       "      <th>0</th>\n",
       "      <td>0.544643</td>\n",
       "      <td>0.550000</td>\n",
       "    </tr>\n",
       "    <tr>\n",
       "      <th>1</th>\n",
       "      <td>0.605357</td>\n",
       "      <td>0.623214</td>\n",
       "    </tr>\n",
       "    <tr>\n",
       "      <th>2</th>\n",
       "      <td>0.620536</td>\n",
       "      <td>0.620536</td>\n",
       "    </tr>\n",
       "  </tbody>\n",
       "</table>\n",
       "</div>"
      ],
      "text/plain": [
       "   test_accuracy  train_accuracy\n",
       "0       0.544643        0.550000\n",
       "1       0.605357        0.623214\n",
       "2       0.620536        0.620536"
      ]
     },
     "execution_count": 238,
     "metadata": {},
     "output_type": "execute_result"
    }
   ],
   "source": [
    "listaccuracy= list((accuracy_scoreDT,accuracy_scoreGB,accuracy_scoreRF))\n",
    "# type(listaccuracy)\n",
    "summary= pd.DataFrame(columns=['test_accuracy'])\n",
    "summary['test_accuracy']= listaccuracy\n",
    "summary['train_accuracy']= list((training_scoreDT,training_scoreGB,training_score_RF))\n",
    "summary"
   ]
  },
  {
   "cell_type": "code",
   "execution_count": null,
   "metadata": {},
   "outputs": [],
   "source": []
  },
  {
   "cell_type": "markdown",
   "metadata": {},
   "source": [
    "### trial error the parameter tunning"
   ]
  },
  {
   "cell_type": "code",
   "execution_count": null,
   "metadata": {},
   "outputs": [],
   "source": []
  },
  {
   "cell_type": "code",
   "execution_count": null,
   "metadata": {},
   "outputs": [],
   "source": []
  },
  {
   "cell_type": "code",
   "execution_count": null,
   "metadata": {},
   "outputs": [],
   "source": []
  },
  {
   "cell_type": "markdown",
   "metadata": {},
   "source": [
    "#### effect of learning rate to the accuracy"
   ]
  },
  {
   "cell_type": "code",
   "execution_count": 167,
   "metadata": {},
   "outputs": [
    {
     "name": "stdout",
     "output_type": "stream",
     "text": [
      "with  0.1 as the learning rate, result =  0.5991071428571428\n",
      "with  0.2 as the learning rate, result =  0.5875\n",
      "with  0.3 as the learning rate, result =  0.59375\n",
      "with  0.4 as the learning rate, result =  0.5857142857142857\n",
      "with  0.5 as the learning rate, result =  0.5741071428571428\n",
      "with  0.6 as the learning rate, result =  0.5866071428571429\n",
      "with  0.7 as the learning rate, result =  0.5830357142857143\n",
      "with  0.8 as the learning rate, result =  0.5776785714285714\n",
      "with  0.9 as the learning rate, result =  0.5741071428571428\n"
     ]
    }
   ],
   "source": [
    "for a in range(1,10):\n",
    "    b=0+a/10\n",
    "#     print(0+a/10)\n",
    "    modelGB_= GradientBoostingClassifier(learning_rate=b)\n",
    "    modelGB_.fit(x_train,y_train)\n",
    "    prediction_GB_= modelGB_.predict(x_test)\n",
    "    accuracyGB_= accuracy_score(y_test, prediction_GB_)\n",
    "    print('with ',b,'as the learning rate, result = ',accuracyGB_)"
   ]
  },
  {
   "cell_type": "markdown",
   "metadata": {},
   "source": [
    "#### effect of n_estimators on the accucary random forest"
   ]
  },
  {
   "cell_type": "code",
   "execution_count": 175,
   "metadata": {},
   "outputs": [
    {
     "name": "stdout",
     "output_type": "stream",
     "text": [
      "with  10  as the number of trees , accuracy is =  0.5973214285714286\n",
      "with  20  as the number of trees , accuracy is =  0.61875\n",
      "with  30  as the number of trees , accuracy is =  0.6098214285714286\n",
      "with  40  as the number of trees , accuracy is =  0.6160714285714286\n",
      "with  50  as the number of trees , accuracy is =  0.6133928571428572\n",
      "with  60  as the number of trees , accuracy is =  0.6294642857142857\n",
      "with  70  as the number of trees , accuracy is =  0.6303571428571428\n",
      "with  80  as the number of trees , accuracy is =  0.6276785714285714\n",
      "with  90  as the number of trees , accuracy is =  0.6303571428571428\n",
      "with  100  as the number of trees , accuracy is =  0.6410714285714286\n",
      "with  110  as the number of trees , accuracy is =  0.6196428571428572\n",
      "with  120  as the number of trees , accuracy is =  0.6232142857142857\n",
      "with  130  as the number of trees , accuracy is =  0.6339285714285714\n",
      "with  140  as the number of trees , accuracy is =  0.63125\n",
      "with  150  as the number of trees , accuracy is =  0.6339285714285714\n",
      "with  160  as the number of trees , accuracy is =  0.6214285714285714\n",
      "with  170  as the number of trees , accuracy is =  0.6276785714285714\n",
      "with  180  as the number of trees , accuracy is =  0.6223214285714286\n",
      "with  190  as the number of trees , accuracy is =  0.6285714285714286\n",
      "with  200  as the number of trees , accuracy is =  0.6303571428571428\n",
      "with  210  as the number of trees , accuracy is =  0.6267857142857143\n",
      "with  220  as the number of trees , accuracy is =  0.6214285714285714\n",
      "with  230  as the number of trees , accuracy is =  0.6339285714285714\n",
      "with  240  as the number of trees , accuracy is =  0.6258928571428571\n",
      "with  250  as the number of trees , accuracy is =  0.6294642857142857\n",
      "with  260  as the number of trees , accuracy is =  0.6276785714285714\n",
      "with  270  as the number of trees , accuracy is =  0.6339285714285714\n",
      "with  280  as the number of trees , accuracy is =  0.625\n",
      "with  290  as the number of trees , accuracy is =  0.6419642857142858\n",
      "with  300  as the number of trees , accuracy is =  0.6321428571428571\n",
      "with  310  as the number of trees , accuracy is =  0.6294642857142857\n",
      "with  320  as the number of trees , accuracy is =  0.6285714285714286\n",
      "with  330  as the number of trees , accuracy is =  0.6258928571428571\n",
      "with  340  as the number of trees , accuracy is =  0.6330357142857143\n",
      "with  350  as the number of trees , accuracy is =  0.6330357142857143\n",
      "with  360  as the number of trees , accuracy is =  0.6348214285714285\n",
      "with  370  as the number of trees , accuracy is =  0.6339285714285714\n",
      "with  380  as the number of trees , accuracy is =  0.625\n",
      "with  390  as the number of trees , accuracy is =  0.6321428571428571\n"
     ]
    }
   ],
   "source": [
    "number_of_trees= []\n",
    "result_accuracy=[]\n",
    "for a in range(1,40):\n",
    "    b=a*10\n",
    "    number_of_trees.append(b\n",
    "    modelRF_= RandomForestClassifier(n_estimators=b,bootstrap=True,criterion='gini')\n",
    "    modelRF_.fit(x_train,y_train)\n",
    "    prediction_rf_= modelRF_.predict(x_test)\n",
    "    training_score_RF_= modelRF_.score(x_test,y_test)\n",
    "    result_accuracy.append(train\n",
    "    print('with ',b,' as the number of trees , accuracy is = ',training_score_RF_)"
   ]
  },
  {
   "cell_type": "code",
   "execution_count": null,
   "metadata": {},
   "outputs": [],
   "source": [
    "\n"
   ]
  },
  {
   "cell_type": "code",
   "execution_count": null,
   "metadata": {},
   "outputs": [],
   "source": []
  },
  {
   "cell_type": "markdown",
   "metadata": {},
   "source": [
    "#### univariate feature selection"
   ]
  },
  {
   "cell_type": "code",
   "execution_count": 196,
   "metadata": {},
   "outputs": [
    {
     "data": {
      "text/plain": [
       "SelectKBest(k=8, score_func=<function chi2 at 0x000001DC48B5F950>)"
      ]
     },
     "execution_count": 196,
     "metadata": {},
     "output_type": "execute_result"
    }
   ],
   "source": [
    "from sklearn.feature_selection import SelectKBest\n",
    "from sklearn.feature_selection import chi2\n",
    "# find best scored 5 features\n",
    "select_feature = SelectKBest(chi2, k=8).fit(x_train, y_train)\n",
    "select_feature"
   ]
  },
  {
   "cell_type": "code",
   "execution_count": 194,
   "metadata": {},
   "outputs": [
    {
     "data": {
      "text/html": [
       "<div>\n",
       "<style scoped>\n",
       "    .dataframe tbody tr th:only-of-type {\n",
       "        vertical-align: middle;\n",
       "    }\n",
       "\n",
       "    .dataframe tbody tr th {\n",
       "        vertical-align: top;\n",
       "    }\n",
       "\n",
       "    .dataframe thead th {\n",
       "        text-align: right;\n",
       "    }\n",
       "</style>\n",
       "<table border=\"1\" class=\"dataframe\">\n",
       "  <thead>\n",
       "    <tr style=\"text-align: right;\">\n",
       "      <th></th>\n",
       "      <th>columns</th>\n",
       "      <th>score</th>\n",
       "    </tr>\n",
       "  </thead>\n",
       "  <tbody>\n",
       "    <tr>\n",
       "      <th>0</th>\n",
       "      <td>fixed acidity</td>\n",
       "      <td>4.315498</td>\n",
       "    </tr>\n",
       "    <tr>\n",
       "      <th>1</th>\n",
       "      <td>volatile acidity</td>\n",
       "      <td>5.032062</td>\n",
       "    </tr>\n",
       "    <tr>\n",
       "      <th>2</th>\n",
       "      <td>citric acid</td>\n",
       "      <td>4.708411</td>\n",
       "    </tr>\n",
       "    <tr>\n",
       "      <th>3</th>\n",
       "      <td>residual sugar</td>\n",
       "      <td>5.134975</td>\n",
       "    </tr>\n",
       "    <tr>\n",
       "      <th>4</th>\n",
       "      <td>chlorides</td>\n",
       "      <td>0.247965</td>\n",
       "    </tr>\n",
       "    <tr>\n",
       "      <th>5</th>\n",
       "      <td>free sulfur dioxide</td>\n",
       "      <td>91.157529</td>\n",
       "    </tr>\n",
       "    <tr>\n",
       "      <th>6</th>\n",
       "      <td>total sulfur dioxide</td>\n",
       "      <td>920.882408</td>\n",
       "    </tr>\n",
       "    <tr>\n",
       "      <th>7</th>\n",
       "      <td>density</td>\n",
       "      <td>0.000074</td>\n",
       "    </tr>\n",
       "    <tr>\n",
       "      <th>8</th>\n",
       "      <td>pH</td>\n",
       "      <td>0.071871</td>\n",
       "    </tr>\n",
       "    <tr>\n",
       "      <th>9</th>\n",
       "      <td>sulphates</td>\n",
       "      <td>1.257044</td>\n",
       "    </tr>\n",
       "    <tr>\n",
       "      <th>10</th>\n",
       "      <td>alcohol</td>\n",
       "      <td>14.792214</td>\n",
       "    </tr>\n",
       "  </tbody>\n",
       "</table>\n",
       "</div>"
      ],
      "text/plain": [
       "                 columns       score\n",
       "0          fixed acidity    4.315498\n",
       "1       volatile acidity    5.032062\n",
       "2            citric acid    4.708411\n",
       "3         residual sugar    5.134975\n",
       "4              chlorides    0.247965\n",
       "5    free sulfur dioxide   91.157529\n",
       "6   total sulfur dioxide  920.882408\n",
       "7                density    0.000074\n",
       "8                     pH    0.071871\n",
       "9              sulphates    1.257044\n",
       "10               alcohol   14.792214"
      ]
     },
     "execution_count": 194,
     "metadata": {},
     "output_type": "execute_result"
    }
   ],
   "source": [
    "featureselection = pd.DataFrame(columns=['columns','score'])\n",
    "featureselection['score']= list(select_feature.scores_)\n",
    "featureselection['columns']= x_train.columns\n",
    "featureselection"
   ]
  },
  {
   "cell_type": "markdown",
   "metadata": {},
   "source": [
    "### create model with different approach"
   ]
  },
  {
   "cell_type": "code",
   "execution_count": 197,
   "metadata": {
    "scrolled": true
   },
   "outputs": [
    {
     "name": "stdout",
     "output_type": "stream",
     "text": [
      "Accuracy is:  0.6223214285714286\n"
     ]
    },
    {
     "data": {
      "text/plain": [
       "<matplotlib.axes._subplots.AxesSubplot at 0x1dc4f362f98>"
      ]
     },
     "execution_count": 197,
     "metadata": {},
     "output_type": "execute_result"
    },
    {
     "data": {
      "image/png": "[encoded data removed]",
      "text/plain": [
       "<Figure size 432x288 with 2 Axes>"
      ]
     },
     "metadata": {
      "needs_background": "light"
     },
     "output_type": "display_data"
    }
   ],
   "source": [
    "x_train_2 = select_feature.transform(x_train)\n",
    "x_test_2 = select_feature.transform(x_test)\n",
    "#random forest classifier with n_estimators=10 (default)\n",
    "clf_rf_2 = RandomForestClassifier(n_estimators=100)      \n",
    "clr_rf_2 = clf_rf_2.fit(x_train_2,y_train)\n",
    "ac_2 = accuracy_score(y_test,clf_rf_2.predict(x_test_2))\n",
    "print('Accuracy is: ',ac_2)\n",
    "cm_2 = confusion_matrix(y_test,clf_rf_2.predict(x_test_2))\n",
    "sns.heatmap(cm_2,annot=True,fmt=\"d\")"
   ]
  },
  {
   "cell_type": "code",
   "execution_count": null,
   "metadata": {},
   "outputs": [],
   "source": []
  },
  {
   "cell_type": "markdown",
   "metadata": {},
   "source": [
    "## what if we standardize the scale"
   ]
  },
  {
   "cell_type": "code",
   "execution_count": 293,
   "metadata": {},
   "outputs": [],
   "source": [
    "from sklearn.model_selection import train_test_split\n",
    "from sklearn import preprocessing\n",
    "from sklearn.ensemble import RandomForestRegressor\n",
    "from sklearn.pipeline import make_pipeline\n",
    "from sklearn.model_selection import GridSearchCV\n",
    "from sklearn.metrics import mean_squared_error, r2_score\n",
    "from sklearn.externals import joblib "
   ]
  },
  {
   "cell_type": "code",
   "execution_count": null,
   "metadata": {},
   "outputs": [],
   "source": []
  },
  {
   "cell_type": "code",
   "execution_count": 302,
   "metadata": {},
   "outputs": [
    {
     "name": "stderr",
     "output_type": "stream",
     "text": [
      "C:\\ProgramData\\Anaconda3\\lib\\site-packages\\sklearn\\model_selection\\_split.py:605: Warning: The least populated class in y has only 2 members, which is too few. The minimum number of members in any class cannot be less than n_splits=10.\n",
      "  % (min_groups, self.n_splits)), Warning)\n"
     ]
    }
   ],
   "source": [
    "\n",
    "# 5. Declare data preprocessing steps\n",
    "pipeline = make_pipeline(preprocessing.StandardScaler(), \n",
    "                         RandomForestClassifier(n_estimators=100))\n",
    " \n",
    "# 6. Declare hyperparameters to tune\n",
    "hyperparameters = { 'randomforestclassifier__max_features' : ['auto', 'sqrt', 'log2'],\n",
    "                  'randomforestclassifier__max_depth': [None, 5, 3, 1]}\n",
    " \n",
    "# 7. Tune model using cross-validation pipeline\n",
    "clf = GridSearchCV(pipeline, hyperparameters, cv=10)\n",
    " \n",
    "clf.fit(x_train, y_train)\n",
    " \n",
    "# 8. Refit on the entire training set\n",
    "# No additional code needed if clf.refit == True (default is True)\n",
    " \n",
    "# 9. Evaluate model pipeline on test data\n",
    "pred = clf.predict(x_test)\n",
    "# print r2_score(y_test, pred)\n",
    "# print mean_squared_error(y_test, pred)\n"
   ]
  },
  {
   "cell_type": "code",
   "execution_count": 312,
   "metadata": {},
   "outputs": [
    {
     "data": {
      "text/plain": [
       "0.5578136503054826"
      ]
     },
     "execution_count": 312,
     "metadata": {},
     "output_type": "execute_result"
    }
   ],
   "source": [
    "from sklearn.model_selection import cross_val_score, cross_val_predict\n",
    "from sklearn import metrics\n",
    "cv_score= cross_val_score(modelGB, inputs, target, cv=10)\n",
    "cv_score.mean()"
   ]
  },
  {
   "cell_type": "code",
   "execution_count": null,
   "metadata": {},
   "outputs": [],
   "source": []
  },
  {
   "cell_type": "markdown",
   "metadata": {},
   "source": [
    "## for imbalanced dataset"
   ]
  },
  {
   "cell_type": "markdown",
   "metadata": {},
   "source": [
    "## trying the smothe"
   ]
  },
  {
   "cell_type": "code",
   "execution_count": 366,
   "metadata": {},
   "outputs": [],
   "source": [
    "winequality_6= winequality[(winequality['quality']==5) | (winequality['quality']==6) ]"
   ]
  },
  {
   "cell_type": "code",
   "execution_count": 369,
   "metadata": {},
   "outputs": [
    {
     "name": "stdout",
     "output_type": "stream",
     "text": [
      "             precision    recall  f1-score   support\n",
      "\n",
      "          5       0.72      0.77      0.74       476\n",
      "          6       0.74      0.67      0.70       448\n",
      "\n",
      "avg / total       0.73      0.73      0.72       924\n",
      "\n"
     ]
    },
    {
     "name": "stderr",
     "output_type": "stream",
     "text": [
      "C:\\ProgramData\\Anaconda3\\lib\\site-packages\\sklearn\\model_selection\\_split.py:2026: FutureWarning: From version 0.21, test_size will always complement train_size unless both are specified.\n",
      "  FutureWarning)\n"
     ]
    }
   ],
   "source": [
    "inputs= winequality_6.drop(columns=['quality'])\n",
    "target= winequality_6['quality']\n",
    "x_train, x_test,y_train,y_test= train_test_split(inputs,target,train_size=0.3)\n",
    "modelRF_= RandomForestClassifier(n_estimators=50,bootstrap=True,criterion='gini')\n",
    "modelRF_.fit(x_train,y_train)\n",
    "prediction_rf_= modelRF_.predict(x_test)\n",
    "# training_score_RF_= modelRF.score(x_test,y_test) ## training score RF\n",
    "\n",
    "# print(confusion_matrix(y_test,prediction_rf_))\n",
    "print(classification_report(y_test,prediction_rf_))\n",
    "# print(accuracy_score(y_test, prediction_rf))\n",
    "# accuracy_score(y_test, prediction_rf_)"
   ]
  },
  {
   "cell_type": "code",
   "execution_count": 334,
   "metadata": {},
   "outputs": [
    {
     "data": {
      "text/plain": [
       "6    638\n",
       "4     53\n",
       "Name: quality, dtype: int64"
      ]
     },
     "execution_count": 334,
     "metadata": {},
     "output_type": "execute_result"
    }
   ],
   "source": [
    "winequality_6['quality'].value_counts()"
   ]
  },
  {
   "cell_type": "code",
   "execution_count": null,
   "metadata": {},
   "outputs": [],
   "source": []
  },
  {
   "cell_type": "code",
   "execution_count": null,
   "metadata": {},
   "outputs": [],
   "source": []
  },
  {
   "cell_type": "code",
   "execution_count": null,
   "metadata": {},
   "outputs": [],
   "source": []
  },
  {
   "cell_type": "code",
   "execution_count": null,
   "metadata": {},
   "outputs": [],
   "source": []
  },
  {
   "cell_type": "code",
   "execution_count": null,
   "metadata": {},
   "outputs": [],
   "source": []
  },
  {
   "cell_type": "code",
   "execution_count": null,
   "metadata": {},
   "outputs": [],
   "source": []
  },
  {
   "cell_type": "code",
   "execution_count": null,
   "metadata": {},
   "outputs": [],
   "source": []
  },
  {
   "cell_type": "code",
   "execution_count": null,
   "metadata": {},
   "outputs": [],
   "source": []
  },
  {
   "cell_type": "code",
   "execution_count": null,
   "metadata": {},
   "outputs": [],
   "source": []
  },
  {
   "cell_type": "code",
   "execution_count": null,
   "metadata": {},
   "outputs": [],
   "source": []
  },
  {
   "cell_type": "code",
   "execution_count": null,
   "metadata": {},
   "outputs": [],
   "source": []
  },
  {
   "cell_type": "code",
   "execution_count": null,
   "metadata": {},
   "outputs": [],
   "source": []
  },
  {
   "cell_type": "code",
   "execution_count": null,
   "metadata": {},
   "outputs": [],
   "source": []
  },
  {
   "cell_type": "code",
   "execution_count": null,
   "metadata": {},
   "outputs": [],
   "source": []
  },
  {
   "cell_type": "code",
   "execution_count": null,
   "metadata": {},
   "outputs": [],
   "source": []
  },
  {
   "cell_type": "code",
   "execution_count": null,
   "metadata": {},
   "outputs": [],
   "source": []
  },
  {
   "cell_type": "code",
   "execution_count": null,
   "metadata": {},
   "outputs": [],
   "source": []
  },
  {
   "cell_type": "code",
   "execution_count": null,
   "metadata": {},
   "outputs": [],
   "source": []
  },
  {
   "cell_type": "code",
   "execution_count": null,
   "metadata": {},
   "outputs": [],
   "source": []
  },
  {
   "cell_type": "code",
   "execution_count": null,
   "metadata": {},
   "outputs": [],
   "source": []
  },
  {
   "cell_type": "code",
   "execution_count": null,
   "metadata": {},
   "outputs": [],
   "source": []
  },
  {
   "cell_type": "code",
   "execution_count": null,
   "metadata": {},
   "outputs": [],
   "source": []
  },
  {
   "cell_type": "code",
   "execution_count": null,
   "metadata": {},
   "outputs": [],
   "source": [
    "\n",
    "import pandas as pd \n",
    "data= pd.read_csv('read_yourfile.csv',sep='|')\n",
    "data['new_column']=data['column_to_clean'].str.replace(\"'\",'')\n",
    "data.drop(columns=['column_to_clean'],inplace=True)\n",
    "data.to_csV('newfile.csv',sep='|',index= False)"
   ]
  },
  {
   "cell_type": "code",
   "execution_count": 382,
   "metadata": {},
   "outputs": [
    {
     "name": "stdout",
     "output_type": "stream",
     "text": [
      "pada dasarnya bakal ada ' di akhir juga\n"
     ]
    }
   ],
   "source": [
    "Df= pd.DataFrame(columns=['test'])\n",
    "Df.loc[0]= \"'pada dasarnya bakal ada ' di akhir juga\"\n",
    "# Df\n",
    "for a in Df['test']:\n",
    "    if a[0]==\"'\":\n",
    "        print(a[1:len(a)])\n",
    "    else:\n",
    "        print('aman')"
   ]
  },
  {
   "cell_type": "code",
   "execution_count": 362,
   "metadata": {},
   "outputs": [
    {
     "data": {
      "text/plain": [
       "3       11.2\n",
       "18       7.4\n",
       "19       7.9\n",
       "20       8.9\n",
       "24       6.9\n",
       "29       7.8\n",
       "31       6.9\n",
       "33       6.9\n",
       "35       7.8\n",
       "36       7.8\n",
       "38       5.7\n",
       "41       8.8\n",
       "42       7.5\n",
       "45       4.6\n",
       "51       6.6\n",
       "52       6.6\n",
       "54       7.6\n",
       "59       7.3\n",
       "69       8.0\n",
       "70       7.7\n",
       "73       8.3\n",
       "77       6.8\n",
       "79       8.3\n",
       "84       6.3\n",
       "86       8.6\n",
       "91       8.6\n",
       "94       5.0\n",
       "95       4.7\n",
       "99       8.1\n",
       "100      8.3\n",
       "        ... \n",
       "1540     6.2\n",
       "1542     6.7\n",
       "1543    11.1\n",
       "1545     6.5\n",
       "1552     6.3\n",
       "1554     6.6\n",
       "1557     6.6\n",
       "1565     6.7\n",
       "1566     6.7\n",
       "1569     6.2\n",
       "1570     6.4\n",
       "1571     6.4\n",
       "1573     6.0\n",
       "1574     5.6\n",
       "1575     7.5\n",
       "1576     8.0\n",
       "1577     6.2\n",
       "1578     6.8\n",
       "1580     7.4\n",
       "1585     7.2\n",
       "1586     7.5\n",
       "1587     5.8\n",
       "1588     7.2\n",
       "1590     6.3\n",
       "1591     5.4\n",
       "1592     6.3\n",
       "1593     6.8\n",
       "1595     5.9\n",
       "1596     6.3\n",
       "1598     6.0\n",
       "Name: hapus, Length: 691, dtype: object"
      ]
     },
     "execution_count": 362,
     "metadata": {},
     "output_type": "execute_result"
    }
   ],
   "source": [
    "# data= pd.DataFrame(columns=['test'])\n",
    "# data=winequality['fixed acidity']\n",
    "# winequality_6['hapus']= winequality['fixed acidity'].map(str)+\"'\"\n",
    "# data['test']= lists\n",
    "# data['hapus']\n",
    "# winequality_6['hapus'].str.replace(\"'\",'')"
   ]
  }
 ],
 "metadata": {
  "kernelspec": {
   "display_name": "Python 3",
   "language": "python",
   "name": "python3"
  },
  "language_info": {
   "codemirror_mode": {
    "name": "ipython",
    "version": 3
   },
   "file_extension": ".py",
   "mimetype": "text/x-python",
   "name": "python",
   "nbconvert_exporter": "python",
   "pygments_lexer": "ipython3",
   "version": "3.7.0"
  }
 },
 "nbformat": 4,
 "nbformat_minor": 2
}
